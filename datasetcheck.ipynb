{
  "nbformat": 4,
  "nbformat_minor": 0,
  "metadata": {
    "colab": {
      "provenance": [],
      "authorship_tag": "ABX9TyOtG0lwuxN/256ab+OXDQpM",
      "include_colab_link": true
    },
    "kernelspec": {
      "name": "python3",
      "display_name": "Python 3"
    },
    "language_info": {
      "name": "python"
    }
  },
  "cells": [
    {
      "cell_type": "markdown",
      "metadata": {
        "id": "view-in-github",
        "colab_type": "text"
      },
      "source": [
        "<a href=\"https://colab.research.google.com/github/helincesxyz/finetuneLLM/blob/main/datasetcheck.ipynb\" target=\"_parent\"><img src=\"https://colab.research.google.com/assets/colab-badge.svg\" alt=\"Open In Colab\"/></a>"
      ]
    },
    {
      "cell_type": "code",
      "source": [
        "import json\n",
        "import gzip\n",
        "import pandas as pd\n",
        "import numpy as np\n",
        "from tqdm import tqdm\n",
        "import nltk\n",
        "import pickle\n",
        "import collections\n",
        "\n",
        "import re\n",
        "import os\n",
        "\n",
        "for dirname, _, filenames in os.walk('/kaggle/input'):\n",
        "    for filename in filenames:\n",
        "        print(os.path.join(dirname, filename))"
      ],
      "metadata": {
        "id": "nK_1i4mql4kb"
      },
      "execution_count": 5,
      "outputs": []
    },
    {
      "cell_type": "code",
      "execution_count": 6,
      "metadata": {
        "id": "m6_a1CVTluy2"
      },
      "outputs": [],
      "source": [
        "import os\n",
        "import json\n",
        "\n",
        "PATH = \"/content/coqa-dev-v1.0.json\"\n",
        "\n",
        "with open(PATH) as json_file:\n",
        "    data = json.load(json_file)"
      ]
    },
    {
      "cell_type": "code",
      "source": [
        "%%bash\n",
        "head -c 1000 \"coqa-dev-v1.0.json\""
      ],
      "metadata": {
        "colab": {
          "base_uri": "https://localhost:8080/"
        },
        "id": "D4KUujKrYbe8",
        "outputId": "01999c15-bfb7-44cb-d754-512a2e4aa9ff"
      },
      "execution_count": 10,
      "outputs": [
        {
          "output_type": "stream",
          "name": "stdout",
          "text": [
            "{\n",
            "  \"version\": \"1.0\",\n",
            "  \"data\": [\n",
            "    {\n",
            "      \"source\": \"mctest\",\n",
            "      \"id\": \"3dr23u6we5exclen4th8uq9rb42tel\",\n",
            "      \"filename\": \"mc160.test.41\",\n",
            "      \"story\": \"Once upon a time, in a barn near a farm house, there lived a little white kitten named Cotton. Cotton lived high up in a nice warm place above the barn where all of the farmer's horses slept. But Cotton wasn't alone in her little home above the barn, oh no. She shared her hay bed with her mommy and 5 other sisters. All of her sisters were cute and fluffy, like Cotton. But she was the only white one in the bunch. The rest of her sisters were all orange with beautiful white tiger stripes like Cotton's mommy. Being different made Cotton quite sad. She often wished she looked like the rest of her family. So one day, when Cotton found a can of the old farmer's orange paint, she used it to paint herself like them. When her mommy and sisters found her they started laughing. \\n\\n\\\"What are you doing, Cotton?!\\\" \\n\\n\\\"I only wanted to"
          ]
        }
      ]
    },
    {
      "cell_type": "code",
      "source": [
        "data"
      ],
      "metadata": {
        "id": "BXaWJv1kdlnj"
      },
      "execution_count": null,
      "outputs": []
    },
    {
      "cell_type": "code",
      "source": [
        "import json\n",
        "\n",
        "def format_data_into_qa_pairs(data):\n",
        "    qa_pairs = []\n",
        "\n",
        "    # Iterate over each story in the data\n",
        "    for story in data[\"data\"]:\n",
        "        story_text = story[\"story\"]\n",
        "\n",
        "        # Iterate over the questions and answers in the story\n",
        "        for i in range(len(story[\"questions\"])):\n",
        "            question = story[\"questions\"][i][\"input_text\"]\n",
        "            answer = story[\"answers\"][i][\"input_text\"]\n",
        "\n",
        "            # Create question-answer pair\n",
        "            qa_pairs.append({\"question\": question, \"answer\": answer})\n",
        "\n",
        "    return qa_pairs\n",
        "\n",
        "# Load JSON data from file\n",
        "with open(\"coqa-dev-v1.0.json\", \"r\") as file:\n",
        "    data = json.load(file)\n",
        "\n",
        "# Format data into question-answer pairs\n",
        "qa_pairs = format_data_into_qa_pairs(data)\n",
        "\n",
        "# Print the first few question-answer pairs\n",
        "for i in range(5):\n",
        "    print(qa_pairs[i])\n"
      ],
      "metadata": {
        "colab": {
          "base_uri": "https://localhost:8080/"
        },
        "id": "CT5FAD7TZxIJ",
        "outputId": "23d31e79-09cf-4d8e-bbf8-3c48ea35c5dc"
      },
      "execution_count": 12,
      "outputs": [
        {
          "output_type": "stream",
          "name": "stdout",
          "text": [
            "{'question': 'What color was Cotton?', 'answer': 'white'}\n",
            "{'question': 'Where did she live?', 'answer': 'in a barn'}\n",
            "{'question': 'Did she live alone?', 'answer': 'no'}\n",
            "{'question': 'Who did she live with?', 'answer': 'with her mommy and 5 sisters'}\n",
            "{'question': 'What color were her sisters?', 'answer': 'orange and white'}\n"
          ]
        }
      ]
    },
    {
      "cell_type": "code",
      "source": [
        "df.to_csv('data.csv', index=False)"
      ],
      "metadata": {
        "id": "0a3jOFRzdRUb"
      },
      "execution_count": null,
      "outputs": []
    },
    {
      "cell_type": "code",
      "source": [
        "with open(\"dataset.json\", \"w\") as f:\n",
        "    json.dump(data[\"questions\"], f)"
      ],
      "metadata": {
        "id": "mNqgMQ7RKcOo"
      },
      "execution_count": null,
      "outputs": []
    },
    {
      "cell_type": "code",
      "execution_count": null,
      "metadata": {
        "id": "kQWHpaHfH-88"
      },
      "outputs": [],
      "source": [
        "from datasets import load_dataset\n",
        "\n",
        "data = load_dataset(\"json\", data_files={\"coqa-dev-v1.0.json\"})\n"
      ]
    }
  ]
}